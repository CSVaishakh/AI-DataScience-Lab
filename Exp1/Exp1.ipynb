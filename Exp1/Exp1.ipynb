{
 "cells": [
  {
   "cell_type": "markdown",
   "id": "463ae372",
   "metadata": {},
   "source": [
    "Experiment No: 1\n",
    "\n",
    "Title: Read a CSV file and Perform Sorting\n",
    "\n",
    "Aim: Read a .csv file and sort the contents with respect to ! coloumn using python"
   ]
  },
  {
   "cell_type": "code",
   "execution_count": 1,
   "id": "4ff09fe2",
   "metadata": {},
   "outputs": [],
   "source": [
    "import pandas as pd\n",
    "\n",
    "path = \"sample_data.csv\"\n",
    "\n",
    "df = pd.read_csv(path)\n",
    "\n",
    "data = df.values.tolist()\n",
    "\n",
    "sortLeader = 'Age'\n",
    "\n",
    "leaderIndex = list(df.columns).index(sortLeader)\n",
    "\n",
    "n = len(df)\n",
    "\n",
    "for i in range(n):\n",
    "    for j in range(0,n-i-1):\n",
    "        row1 = data[j]\n",
    "        row2 = data[j+1]\n",
    "        if row1[leaderIndex] > row2[leaderIndex]:\n",
    "            data[j],data[j+1] = row2, row1\n",
    "\n",
    "sorted_df = pd.DataFrame(data,columns=df.columns)\n",
    "\n",
    "sorted_df.to_csv('sorted_sample_data.csv', index=False)"
   ]
  },
  {
   "cell_type": "code",
   "execution_count": null,
   "id": "c1ffe841",
   "metadata": {},
   "outputs": [],
   "source": []
  }
 ],
 "metadata": {
  "kernelspec": {
   "display_name": ".venv",
   "language": "python",
   "name": "python3"
  },
  "language_info": {
   "codemirror_mode": {
    "name": "ipython",
    "version": 3
   },
   "file_extension": ".py",
   "mimetype": "text/x-python",
   "name": "python",
   "nbconvert_exporter": "python",
   "pygments_lexer": "ipython3",
   "version": "3.11.13"
  }
 },
 "nbformat": 4,
 "nbformat_minor": 5
}
