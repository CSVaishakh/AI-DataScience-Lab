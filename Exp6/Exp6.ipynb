{
 "cells": [
  {
   "cell_type": "markdown",
   "id": "105342e6",
   "metadata": {},
   "source": [
    "Experiment 5\n",
    "\n",
    "Correlation & Covariance\n",
    "\n",
    "Aim : Write a program to find the correlation and covariance matrix between different features of a dataset , print it and store it in csv files.\n",
    "\n",
    "Use Iris Dataset"
   ]
  },
  {
   "cell_type": "code",
   "execution_count": 7,
   "id": "6ee6bda9",
   "metadata": {},
   "outputs": [],
   "source": [
    "from sklearn.datasets import load_iris\n",
    "import pandas as pd"
   ]
  },
  {
   "cell_type": "code",
   "execution_count": 8,
   "id": "4d435076",
   "metadata": {},
   "outputs": [],
   "source": [
    "data = load_iris()\n",
    "df = pd.DataFrame(data.data, columns=data.feature_names)\n",
    "\n",
    "corr_mat = df.corr()\n",
    "cov_mat = df.cov()"
   ]
  },
  {
   "cell_type": "code",
   "execution_count": 9,
   "id": "421df786",
   "metadata": {},
   "outputs": [
    {
     "name": "stdout",
     "output_type": "stream",
     "text": [
      "Correlation Matrix : \n",
      "                   sepal length (cm)  sepal width (cm)  petal length (cm)  \\\n",
      "sepal length (cm)           1.000000         -0.117570           0.871754   \n",
      "sepal width (cm)           -0.117570          1.000000          -0.428440   \n",
      "petal length (cm)           0.871754         -0.428440           1.000000   \n",
      "petal width (cm)            0.817941         -0.366126           0.962865   \n",
      "\n",
      "                   petal width (cm)  \n",
      "sepal length (cm)          0.817941  \n",
      "sepal width (cm)          -0.366126  \n",
      "petal length (cm)          0.962865  \n",
      "petal width (cm)           1.000000  \n",
      "\n",
      "Corvariance Matrix : \n",
      "                   sepal length (cm)  sepal width (cm)  petal length (cm)  \\\n",
      "sepal length (cm)           0.685694         -0.042434           1.274315   \n",
      "sepal width (cm)           -0.042434          0.189979          -0.329656   \n",
      "petal length (cm)           1.274315         -0.329656           3.116278   \n",
      "petal width (cm)            0.516271         -0.121639           1.295609   \n",
      "\n",
      "                   petal width (cm)  \n",
      "sepal length (cm)          0.516271  \n",
      "sepal width (cm)          -0.121639  \n",
      "petal length (cm)          1.295609  \n",
      "petal width (cm)           0.581006  \n",
      "\n"
     ]
    }
   ],
   "source": [
    "corr_mat.to_csv(\"Correlation.csv\")\n",
    "cov_mat.to_csv(\"Covariance.csv\")\n",
    "\n",
    "print(f\"Correlation Matrix : \\n{corr_mat}\\n\")\n",
    "print(f\"Corvariance Matrix : \\n{cov_mat}\\n\")"
   ]
  }
 ],
 "metadata": {
  "kernelspec": {
   "display_name": ".venv",
   "language": "python",
   "name": "python3"
  },
  "language_info": {
   "codemirror_mode": {
    "name": "ipython",
    "version": 3
   },
   "file_extension": ".py",
   "mimetype": "text/x-python",
   "name": "python",
   "nbconvert_exporter": "python",
   "pygments_lexer": "ipython3",
   "version": "3.11.13"
  }
 },
 "nbformat": 4,
 "nbformat_minor": 5
}
