{
 "cells": [
  {
   "cell_type": "markdown",
   "id": "463ae372",
   "metadata": {},
   "source": [
    "Experiment No: 1\n",
    "\n",
    "Title: Read a CSV file and Perform Sorting\n",
    "\n",
    "Aim: Read a .csv file and sort the contents with respect to ! coloumn using python"
   ]
  },
  {
   "cell_type": "code",
   "execution_count": 8,
   "id": "4ff09fe2",
   "metadata": {},
   "outputs": [],
   "source": [
    "import pandas as pd\n",
    "\n",
    "path = \"sample_data.csv\"\n",
    "\n",
    "df = pd.read_csv(path)\n",
    "\n",
    "sorted_df = df.sort_values(by='Age',).reset_index(drop=True)\n",
    "\n",
    "sorted_df.to_csv('sorted_sample_data.csv',index=False)"
   ]
  }
 ],
 "metadata": {
  "kernelspec": {
   "display_name": ".venv",
   "language": "python",
   "name": "python3"
  },
  "language_info": {
   "codemirror_mode": {
    "name": "ipython",
    "version": 3
   },
   "file_extension": ".py",
   "mimetype": "text/x-python",
   "name": "python",
   "nbconvert_exporter": "python",
   "pygments_lexer": "ipython3",
   "version": "3.11.13"
  }
 },
 "nbformat": 4,
 "nbformat_minor": 5
}
