{
 "cells": [
  {
   "cell_type": "markdown",
   "id": "10852353",
   "metadata": {},
   "source": [
    "Experiment No: 2\n",
    "\n",
    "Title: Matrix Operations\n",
    "\n",
    "Aim: Write a python program to perform matrix operations"
   ]
  },
  {
   "cell_type": "code",
   "execution_count": null,
   "id": "566c77e7",
   "metadata": {},
   "outputs": [
    {
     "name": "stdout",
     "output_type": "stream",
     "text": [
      "sum : \n",
      " [[1 2]\n",
      " [3 4]] \n",
      "\n",
      "sum : \n",
      " [[5 6]\n",
      " [7 8]] \n",
      "\n",
      "sum : \n",
      " [[ 6  8]\n",
      " [10 12]] \n",
      "\n",
      "difference : \n",
      " [[-4 -4]\n",
      " [-4 -4]] \n",
      "\n",
      "product : \n",
      " [[19 22]\n",
      " [43 50]] \n",
      "\n"
     ]
    }
   ],
   "source": [
    "def readMat():\n",
    "    rows = int(input('Enter the no of rows'))\n",
    "    col = int(input('Enter the no of col'))\n",
    "    \n",
    "    mat=[]\n",
    "    for i in range(rows):\n",
    "        row=[]\n",
    "        for i in range(col):\n",
    "            ele =  int(input(\"Enter the element\"))\n",
    "            row.append(ele)\n",
    "        mat.append(row)\n",
    "\n",
    "    return mat\n",
    "\n",
    "\n",
    "matA = readMat()\n",
    "matB = readMat()\n",
    "\n",
    "import numpy as np\n",
    "\n",
    "matA = np.array(matA)\n",
    "matB = np.array(matB)\n",
    "\n",
    "print(f\"matA : \\n {matA} \\n\")\n",
    "print(f\"matB : \\n {matB} \\n\")\n",
    "\n",
    "mat_sum = matA + matB\n",
    "print(f\"sum : \\n {mat_sum} \\n\")\n",
    "\n",
    "diff = matA - matB\n",
    "print(f\"difference : \\n {diff} \\n\")\n",
    "\n",
    "prod = matA @ matB\n",
    "print(f\"product : \\n {prod} \\n\")\n"
   ]
  },
  {
   "cell_type": "code",
   "execution_count": null,
   "id": "d7192205",
   "metadata": {},
   "outputs": [],
   "source": []
  }
 ],
 "metadata": {
  "kernelspec": {
   "display_name": ".venv",
   "language": "python",
   "name": "python3"
  },
  "language_info": {
   "codemirror_mode": {
    "name": "ipython",
    "version": 3
   },
   "file_extension": ".py",
   "mimetype": "text/x-python",
   "name": "python",
   "nbconvert_exporter": "python",
   "pygments_lexer": "ipython3",
   "version": "3.11.13"
  }
 },
 "nbformat": 4,
 "nbformat_minor": 5
}
