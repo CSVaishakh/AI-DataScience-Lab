{
 "cells": [
  {
   "cell_type": "markdown",
   "id": "10852353",
   "metadata": {},
   "source": [
    "Experiment No: 2\n",
    "\n",
    "Title: Matrix Operations\n",
    "\n",
    "Aim: Write a python program to perform matrix operations"
   ]
  },
  {
   "cell_type": "code",
   "execution_count": 8,
   "id": "566c77e7",
   "metadata": {},
   "outputs": [
    {
     "name": "stdout",
     "output_type": "stream",
     "text": [
      "Additon : \n",
      " [[11 22 33]\n",
      " [44 55 66]\n",
      " [77 88 99]]\n",
      "\n",
      "\n",
      "Subtraction : \n",
      " [[ -9 -18 -27]\n",
      " [-36 -45 -54]\n",
      " [-63 -72 -81]]\n",
      "\n",
      "\n",
      "Multiplication : \n",
      " [[ 300  360  420]\n",
      " [ 660  810  960]\n",
      " [1020 1260 1500]]\n",
      "\n",
      "\n"
     ]
    }
   ],
   "source": [
    "import numpy as np\n",
    "\n",
    "A = np.array([[1,2,3],[4,5,6],[7,8,9]])\n",
    "B = np.array([[10,20,30],[40,50,60],[70,80,90]])\n",
    "\n",
    "addition = A + B\n",
    "\n",
    "subtraction = A - B\n",
    "\n",
    "multiplication = A @ B\n",
    "\n",
    "print(\"Additon : \\n\",addition)\n",
    "print(\"\\n\")\n",
    "\n",
    "print(\"Subtraction : \\n\",subtraction)\n",
    "print(\"\\n\")\n",
    "\n",
    "print(\"Multiplication : \\n\",multiplication)\n",
    "print(\"\\n\")\n"
   ]
  }
 ],
 "metadata": {
  "kernelspec": {
   "display_name": ".venv",
   "language": "python",
   "name": "python3"
  },
  "language_info": {
   "codemirror_mode": {
    "name": "ipython",
    "version": 3
   },
   "file_extension": ".py",
   "mimetype": "text/x-python",
   "name": "python",
   "nbconvert_exporter": "python",
   "pygments_lexer": "ipython3",
   "version": "3.11.13"
  }
 },
 "nbformat": 4,
 "nbformat_minor": 5
}
