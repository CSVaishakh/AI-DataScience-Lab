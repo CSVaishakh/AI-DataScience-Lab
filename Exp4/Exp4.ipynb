{
 "cells": [
  {
   "cell_type": "markdown",
   "id": "6444b93f",
   "metadata": {},
   "source": [
    "Experiment No: 4\n",
    "\n",
    "Title: K - Nearest Neighbours\n",
    "\n",
    "Aim: Write a python program to implement KNN algorithm and perform classification over any dataset, print both correct and wrong predictions, assuming the value of k = 3*"
   ]
  },
  {
   "cell_type": "code",
   "execution_count": 79,
   "id": "06b4da12",
   "metadata": {},
   "outputs": [],
   "source": [
    "from sklearn.neighbors import KNeighborsClassifier\n",
    "from sklearn.model_selection import train_test_split\n",
    "from sklearn.datasets import load_iris\n",
    "from sklearn.metrics import confusion_matrix,precision_score,f1_score"
   ]
  },
  {
   "cell_type": "code",
   "execution_count": 80,
   "id": "0b66e15d",
   "metadata": {},
   "outputs": [],
   "source": [
    "irisData = load_iris()\n",
    "\n",
    "X = irisData.data\n",
    "Y = irisData.target\n",
    "\n",
    "x_train,x_test,y_train,y_test = train_test_split(X,Y,test_size=.2, random_state=453)"
   ]
  },
  {
   "cell_type": "code",
   "execution_count": 81,
   "id": "ed8c9eee",
   "metadata": {},
   "outputs": [],
   "source": [
    "knn = KNeighborsClassifier(n_neighbors = 3).fit(x_train,y_train)\n",
    "\n",
    "pred = knn.predict(x_test)\n",
    "\n",
    "accuracy = knn.score(x_test,y_test)\n",
    "con_mat = confusion_matrix(y_test,pred)\n",
    "f1 = f1_score(y_test,pred, average=\"macro\")\n",
    "precision = precision_score(y_test,pred, average=\"macro\")"
   ]
  },
  {
   "cell_type": "code",
   "execution_count": 82,
   "id": "a74f3cf4",
   "metadata": {},
   "outputs": [
    {
     "name": "stdout",
     "output_type": "stream",
     "text": [
      "\n",
      "CORRECT PREDICTIONS:\n",
      "------------------------------\n",
      "Sample 1: Predicted = setosa, Actual = setosa ✓\n",
      "Sample 2: Predicted = virginica, Actual = virginica ✓\n",
      "Sample 3: Predicted = virginica, Actual = virginica ✓\n",
      "Sample 4: Predicted = setosa, Actual = setosa ✓\n",
      "Sample 5: Predicted = versicolor, Actual = versicolor ✓\n",
      "Sample 6: Predicted = versicolor, Actual = versicolor ✓\n",
      "Sample 7: Predicted = setosa, Actual = setosa ✓\n",
      "Sample 8: Predicted = virginica, Actual = virginica ✓\n",
      "Sample 10: Predicted = versicolor, Actual = versicolor ✓\n",
      "Sample 11: Predicted = virginica, Actual = virginica ✓\n",
      "Sample 12: Predicted = versicolor, Actual = versicolor ✓\n",
      "Sample 13: Predicted = virginica, Actual = virginica ✓\n",
      "Sample 14: Predicted = versicolor, Actual = versicolor ✓\n",
      "Sample 16: Predicted = virginica, Actual = virginica ✓\n",
      "Sample 17: Predicted = versicolor, Actual = versicolor ✓\n",
      "Sample 18: Predicted = setosa, Actual = setosa ✓\n",
      "Sample 19: Predicted = versicolor, Actual = versicolor ✓\n",
      "Sample 20: Predicted = versicolor, Actual = versicolor ✓\n",
      "Sample 21: Predicted = setosa, Actual = setosa ✓\n",
      "Sample 22: Predicted = versicolor, Actual = versicolor ✓\n",
      "Sample 23: Predicted = setosa, Actual = setosa ✓\n",
      "Sample 24: Predicted = virginica, Actual = virginica ✓\n",
      "Sample 25: Predicted = virginica, Actual = virginica ✓\n",
      "Sample 26: Predicted = setosa, Actual = setosa ✓\n",
      "Sample 27: Predicted = virginica, Actual = virginica ✓\n",
      "Sample 28: Predicted = setosa, Actual = setosa ✓\n",
      "Sample 29: Predicted = virginica, Actual = virginica ✓\n",
      "Sample 30: Predicted = setosa, Actual = setosa ✓\n",
      "\n",
      "Total Correct Predictions: 28\n",
      "\n",
      "WRONG PREDICTIONS:\n",
      "------------------------------\n",
      "Sample 9: Predicted = versicolor, Actual = virginica ✗\n",
      "Sample 15: Predicted = virginica, Actual = versicolor ✗\n",
      "\n",
      "Total Wrong Predictions: 2\n",
      "\n",
      "==================================================\n",
      "SUMMARY STATISTICS\n",
      "==================================================\n",
      "Total Test Samples: 30\n",
      "Correct Predictions: 28\n",
      "Wrong Predictions: 2\n",
      "Accuracy: 0.93 = (93.33%)\n",
      "Precision : 0.94\n",
      "f1 score : 0.94\n",
      "Confusion Matrix : \n",
      " [[ 9  0  0]\n",
      " [ 0  9  1]\n",
      " [ 0  1 10]]\n"
     ]
    }
   ],
   "source": [
    "correct_predictions = 0\n",
    "wrong_predictions = 0\n",
    "\n",
    "print(\"\\nCORRECT PREDICTIONS:\")\n",
    "print(\"-\" * 30)\n",
    "for i in range(len(y_test)):\n",
    "    if pred[i] == y_test[i]:\n",
    "        correct_predictions += 1\n",
    "        print(f\"Sample {i+1}: Predicted = {irisData.target_names[pred[i]]}, \"\n",
    "              f\"Actual = {irisData.target_names[y_test[i]]} ✓\")\n",
    "\n",
    "print(f\"\\nTotal Correct Predictions: {correct_predictions}\")\n",
    "\n",
    "print(\"\\nWRONG PREDICTIONS:\")\n",
    "print(\"-\" * 30)\n",
    "for i in range(len(y_test)):\n",
    "    if pred[i] != y_test[i]:\n",
    "        wrong_predictions += 1\n",
    "        print(f\"Sample {i+1}: Predicted = {irisData.target_names[pred[i]]}, \"\n",
    "              f\"Actual = {irisData.target_names[y_test[i]]} ✗\")\n",
    "\n",
    "print(f\"\\nTotal Wrong Predictions: {wrong_predictions}\")\n",
    "\n",
    "print(\"\\n\" + \"=\"*50)\n",
    "print(\"SUMMARY STATISTICS\")\n",
    "print(\"=\"*50)\n",
    "print(f\"Total Test Samples: {len(y_test)}\")\n",
    "print(f\"Correct Predictions: {correct_predictions}\")\n",
    "print(f\"Wrong Predictions: {wrong_predictions}\")\n",
    "print(f\"Accuracy: {accuracy:.2f} = ({accuracy*100:.2f}%)\")\n",
    "print(f\"Precision : {precision:.2f}\")\n",
    "print(f\"f1 score : {f1:.2f}\")\n",
    "print(f\"Confusion Matrix : \\n {con_mat}\")\n"
   ]
  }
 ],
 "metadata": {
  "kernelspec": {
   "display_name": ".venv",
   "language": "python",
   "name": "python3"
  },
  "language_info": {
   "codemirror_mode": {
    "name": "ipython",
    "version": 3
   },
   "file_extension": ".py",
   "mimetype": "text/x-python",
   "name": "python",
   "nbconvert_exporter": "python",
   "pygments_lexer": "ipython3",
   "version": "3.11.13"
  }
 },
 "nbformat": 4,
 "nbformat_minor": 5
}
