{
 "cells": [
  {
   "cell_type": "markdown",
   "id": "103d877f",
   "metadata": {},
   "source": [
    "Experiment 9\n",
    "\n",
    "Logistic Regression\n",
    "\n",
    "Aim : Implement a program to peform logistic regression to classify a dataset. Print feature importance after building the model."
   ]
  },
  {
   "cell_type": "code",
   "execution_count": 32,
   "id": "af0dbf6d",
   "metadata": {},
   "outputs": [],
   "source": [
    "from sklearn.datasets import load_iris\n",
    "from sklearn.model_selection import train_test_split\n",
    "from sklearn.linear_model import LogisticRegression\n",
    "from sklearn.metrics import accuracy_score\n",
    "import matplotlib.pyplot as plt\n",
    "import pandas as pd"
   ]
  },
  {
   "cell_type": "code",
   "execution_count": 33,
   "id": "e53e125d",
   "metadata": {},
   "outputs": [],
   "source": [
    "iris = load_iris()\n",
    "X, Y = iris.data, iris.target\n",
    "\n",
    "x_train, x_test, y_train,y_test = train_test_split(X, Y, test_size = 0.3, random_state = 42)\n",
    "\n",
    "model = LogisticRegression(max_iter=200)\n",
    "model.fit(x_train, y_train)\n",
    "\n",
    "y_pred = model.predict(x_test)"
   ]
  },
  {
   "cell_type": "code",
   "execution_count": 36,
   "id": "b8de4bfc",
   "metadata": {},
   "outputs": [
    {
     "name": "stdout",
     "output_type": "stream",
     "text": [
      "\n",
      "Accuracy:\n",
      " 1.0\n",
      "\n",
      "Feature importance\n",
      "sepal length (cm): -0.40460924668558773\n",
      "sepal width (cm): 0.8684589263040319\n",
      "petal length (cm): -2.278007073347748\n",
      "petal width (cm): -0.9574895297976534\n"
     ]
    }
   ],
   "source": [
    "accuracy = accuracy_score(y_test, y_pred)\n",
    "print(\"\\nAccuracy:\\n\", accuracy)\n",
    "\n",
    "features = model.coef_[0]\n",
    "\n",
    "print(\"\\nFeature importance\")\n",
    "for name, val in zip(iris.feature_names, features):\n",
    "    print(f\"{name}: {val}\")"
   ]
  },
  {
   "cell_type": "code",
   "execution_count": null,
   "id": "ab66821b",
   "metadata": {},
   "outputs": [],
   "source": []
  }
 ],
 "metadata": {
  "kernelspec": {
   "display_name": "Python 3 (ipykernel)",
   "language": "python",
   "name": "python3"
  },
  "language_info": {
   "codemirror_mode": {
    "name": "ipython",
    "version": 3
   },
   "file_extension": ".py",
   "mimetype": "text/x-python",
   "name": "python",
   "nbconvert_exporter": "python",
   "pygments_lexer": "ipython3",
   "version": "3.9.12"
  }
 },
 "nbformat": 4,
 "nbformat_minor": 5
}
